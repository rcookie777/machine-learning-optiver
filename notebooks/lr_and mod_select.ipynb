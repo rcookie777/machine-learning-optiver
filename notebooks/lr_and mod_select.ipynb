{
 "cells": [
  {
   "cell_type": "code",
   "execution_count": 1,
   "metadata": {},
   "outputs": [],
   "source": [
    "import numpy as np\n",
    "import pandas as pd\n",
    "import seaborn as sns\n",
    "import matplotlib.pyplot as plt\n",
    "from sklearn.linear_model import LogisticRegression\n",
    "from sklearn.model_selection import train_test_split\n",
    "from sklearn.feature_selection import SequentialFeatureSelector\n",
    "from sklearn.metrics import accuracy_score\n",
    "from sklearn.metrics import confusion_matrix\n",
    "from sklearn.metrics import f1_score"
   ]
  },
  {
   "cell_type": "markdown",
   "metadata": {},
   "source": [
    "## Data Exploration"
   ]
  },
  {
   "cell_type": "code",
   "execution_count": 2,
   "metadata": {},
   "outputs": [
    {
     "data": {
      "text/html": [
       "<div>\n",
       "<style scoped>\n",
       "    .dataframe tbody tr th:only-of-type {\n",
       "        vertical-align: middle;\n",
       "    }\n",
       "\n",
       "    .dataframe tbody tr th {\n",
       "        vertical-align: top;\n",
       "    }\n",
       "\n",
       "    .dataframe thead th {\n",
       "        text-align: right;\n",
       "    }\n",
       "</style>\n",
       "<table border=\"1\" class=\"dataframe\">\n",
       "  <thead>\n",
       "    <tr style=\"text-align: right;\">\n",
       "      <th></th>\n",
       "      <th>stock_id</th>\n",
       "      <th>date_id</th>\n",
       "      <th>seconds_in_bucket</th>\n",
       "      <th>imbalance_size</th>\n",
       "      <th>imbalance_buy_sell_flag</th>\n",
       "      <th>reference_price</th>\n",
       "      <th>matched_size</th>\n",
       "      <th>far_price</th>\n",
       "      <th>near_price</th>\n",
       "      <th>bid_price</th>\n",
       "      <th>bid_size</th>\n",
       "      <th>ask_price</th>\n",
       "      <th>ask_size</th>\n",
       "      <th>wap</th>\n",
       "      <th>target</th>\n",
       "      <th>time_id</th>\n",
       "      <th>row_id</th>\n",
       "    </tr>\n",
       "  </thead>\n",
       "  <tbody>\n",
       "    <tr>\n",
       "      <th>0</th>\n",
       "      <td>0</td>\n",
       "      <td>0</td>\n",
       "      <td>0</td>\n",
       "      <td>3180602.69</td>\n",
       "      <td>1</td>\n",
       "      <td>0.999812</td>\n",
       "      <td>13380276.64</td>\n",
       "      <td>NaN</td>\n",
       "      <td>NaN</td>\n",
       "      <td>0.999812</td>\n",
       "      <td>60651.50</td>\n",
       "      <td>1.000026</td>\n",
       "      <td>8493.03</td>\n",
       "      <td>1.0</td>\n",
       "      <td>-3.029704</td>\n",
       "      <td>0</td>\n",
       "      <td>0_0_0</td>\n",
       "    </tr>\n",
       "    <tr>\n",
       "      <th>1</th>\n",
       "      <td>1</td>\n",
       "      <td>0</td>\n",
       "      <td>0</td>\n",
       "      <td>166603.91</td>\n",
       "      <td>-1</td>\n",
       "      <td>0.999896</td>\n",
       "      <td>1642214.25</td>\n",
       "      <td>NaN</td>\n",
       "      <td>NaN</td>\n",
       "      <td>0.999896</td>\n",
       "      <td>3233.04</td>\n",
       "      <td>1.000660</td>\n",
       "      <td>20605.09</td>\n",
       "      <td>1.0</td>\n",
       "      <td>-5.519986</td>\n",
       "      <td>0</td>\n",
       "      <td>0_0_1</td>\n",
       "    </tr>\n",
       "    <tr>\n",
       "      <th>2</th>\n",
       "      <td>2</td>\n",
       "      <td>0</td>\n",
       "      <td>0</td>\n",
       "      <td>302879.87</td>\n",
       "      <td>-1</td>\n",
       "      <td>0.999561</td>\n",
       "      <td>1819368.03</td>\n",
       "      <td>NaN</td>\n",
       "      <td>NaN</td>\n",
       "      <td>0.999403</td>\n",
       "      <td>37956.00</td>\n",
       "      <td>1.000298</td>\n",
       "      <td>18995.00</td>\n",
       "      <td>1.0</td>\n",
       "      <td>-8.389950</td>\n",
       "      <td>0</td>\n",
       "      <td>0_0_2</td>\n",
       "    </tr>\n",
       "    <tr>\n",
       "      <th>3</th>\n",
       "      <td>3</td>\n",
       "      <td>0</td>\n",
       "      <td>0</td>\n",
       "      <td>11917682.27</td>\n",
       "      <td>-1</td>\n",
       "      <td>1.000171</td>\n",
       "      <td>18389745.62</td>\n",
       "      <td>NaN</td>\n",
       "      <td>NaN</td>\n",
       "      <td>0.999999</td>\n",
       "      <td>2324.90</td>\n",
       "      <td>1.000214</td>\n",
       "      <td>479032.40</td>\n",
       "      <td>1.0</td>\n",
       "      <td>-4.010200</td>\n",
       "      <td>0</td>\n",
       "      <td>0_0_3</td>\n",
       "    </tr>\n",
       "    <tr>\n",
       "      <th>4</th>\n",
       "      <td>4</td>\n",
       "      <td>0</td>\n",
       "      <td>0</td>\n",
       "      <td>447549.96</td>\n",
       "      <td>-1</td>\n",
       "      <td>0.999532</td>\n",
       "      <td>17860614.95</td>\n",
       "      <td>NaN</td>\n",
       "      <td>NaN</td>\n",
       "      <td>0.999394</td>\n",
       "      <td>16485.54</td>\n",
       "      <td>1.000016</td>\n",
       "      <td>434.10</td>\n",
       "      <td>1.0</td>\n",
       "      <td>-7.349849</td>\n",
       "      <td>0</td>\n",
       "      <td>0_0_4</td>\n",
       "    </tr>\n",
       "  </tbody>\n",
       "</table>\n",
       "</div>"
      ],
      "text/plain": [
       "   stock_id  date_id  seconds_in_bucket  imbalance_size  \\\n",
       "0         0        0                  0      3180602.69   \n",
       "1         1        0                  0       166603.91   \n",
       "2         2        0                  0       302879.87   \n",
       "3         3        0                  0     11917682.27   \n",
       "4         4        0                  0       447549.96   \n",
       "\n",
       "   imbalance_buy_sell_flag  reference_price  matched_size  far_price  \\\n",
       "0                        1         0.999812   13380276.64        NaN   \n",
       "1                       -1         0.999896    1642214.25        NaN   \n",
       "2                       -1         0.999561    1819368.03        NaN   \n",
       "3                       -1         1.000171   18389745.62        NaN   \n",
       "4                       -1         0.999532   17860614.95        NaN   \n",
       "\n",
       "   near_price  bid_price  bid_size  ask_price   ask_size  wap    target  \\\n",
       "0         NaN   0.999812  60651.50   1.000026    8493.03  1.0 -3.029704   \n",
       "1         NaN   0.999896   3233.04   1.000660   20605.09  1.0 -5.519986   \n",
       "2         NaN   0.999403  37956.00   1.000298   18995.00  1.0 -8.389950   \n",
       "3         NaN   0.999999   2324.90   1.000214  479032.40  1.0 -4.010200   \n",
       "4         NaN   0.999394  16485.54   1.000016     434.10  1.0 -7.349849   \n",
       "\n",
       "   time_id row_id  \n",
       "0        0  0_0_0  \n",
       "1        0  0_0_1  \n",
       "2        0  0_0_2  \n",
       "3        0  0_0_3  \n",
       "4        0  0_0_4  "
      ]
     },
     "execution_count": 2,
     "metadata": {},
     "output_type": "execute_result"
    }
   ],
   "source": [
    "# loading in data\n",
    "df = pd.read_csv(\"/mnt/scratch/tairaeli/cse_dat/train.csv\")\n",
    "\n",
    "# df['bid_ask_ratio'] = df['bid_size']/df['ask_size']\n",
    "\n",
    "df.head()"
   ]
  },
  {
   "cell_type": "code",
   "execution_count": 3,
   "metadata": {},
   "outputs": [
    {
     "data": {
      "text/plain": [
       "(5237980, 17)"
      ]
     },
     "execution_count": 3,
     "metadata": {},
     "output_type": "execute_result"
    }
   ],
   "source": [
    "df.shape"
   ]
  },
  {
   "cell_type": "code",
   "execution_count": 4,
   "metadata": {},
   "outputs": [],
   "source": [
    "# calulate ratio\n",
    "df['bid_ask_ratio'] = df['bid_size']/df['ask_size']\n",
    "\n",
    "df[\"target_change\"] = np.ones_like(df[\"target\"])\n",
    "\n",
    "df.loc[df[\"target\"]<0,'target_change'] = -1\n",
    "\n",
    "df = df.drop([\"target\",\"bid_price\",\"ask_price\",\"row_id\"], axis=1)"
   ]
  },
  {
   "cell_type": "code",
   "execution_count": 5,
   "metadata": {},
   "outputs": [
    {
     "data": {
      "text/plain": [
       "Index(['stock_id', 'date_id', 'seconds_in_bucket', 'imbalance_size',\n",
       "       'imbalance_buy_sell_flag', 'reference_price', 'matched_size',\n",
       "       'far_price', 'near_price', 'bid_size', 'ask_size', 'wap', 'time_id',\n",
       "       'bid_ask_ratio', 'target_change'],\n",
       "      dtype='object')"
      ]
     },
     "execution_count": 5,
     "metadata": {},
     "output_type": "execute_result"
    }
   ],
   "source": [
    "df.columns"
   ]
  },
  {
   "cell_type": "markdown",
   "metadata": {},
   "source": [
    "To better understand the data we are working with, we beign by plotting the correlation of each predictor with one another"
   ]
  },
  {
   "cell_type": "code",
   "execution_count": 33,
   "metadata": {},
   "outputs": [
    {
     "data": {
      "text/plain": [
       "Text(0.5, 1.0, 'Optiver Data Correlation Matrix')"
      ]
     },
     "execution_count": 33,
     "metadata": {},
     "output_type": "execute_result"
    },
    {
     "data": {
      "image/png": "[encoded data removed]",
      "text/plain": [
       "<Figure size 640x480 with 2 Axes>"
      ]
     },
     "metadata": {},
     "output_type": "display_data"
    }
   ],
   "source": [
    "# isolating numerical values\n",
    "num_vals = df[['ask_size', 'imbalance_size', 'imbalance_buy_sell_flag', 'matched_size', 'bid_size', 'bid_ask_ratio', 'reference_price','target_change']]\n",
    "# starting by removing NaN values from dataset\n",
    "# we can try some more complex methods later on\n",
    "num_vals = num_vals.dropna()\n",
    "\n",
    "# creating heatmap\n",
    "corr_plot = sns.heatmap(num_vals.corr())\n",
    "plt.title(\"Optiver Data Correlation Matrix\")"
   ]
  },
  {
   "cell_type": "code",
   "execution_count": 34,
   "metadata": {},
   "outputs": [
    {
     "data": {
      "text/html": [
       "<div>\n",
       "<style scoped>\n",
       "    .dataframe tbody tr th:only-of-type {\n",
       "        vertical-align: middle;\n",
       "    }\n",
       "\n",
       "    .dataframe tbody tr th {\n",
       "        vertical-align: top;\n",
       "    }\n",
       "\n",
       "    .dataframe thead th {\n",
       "        text-align: right;\n",
       "    }\n",
       "</style>\n",
       "<table border=\"1\" class=\"dataframe\">\n",
       "  <thead>\n",
       "    <tr style=\"text-align: right;\">\n",
       "      <th></th>\n",
       "      <th>ask_size</th>\n",
       "      <th>imbalance_size</th>\n",
       "      <th>imbalance_buy_sell_flag</th>\n",
       "      <th>matched_size</th>\n",
       "      <th>bid_size</th>\n",
       "      <th>bid_ask_ratio</th>\n",
       "      <th>reference_price</th>\n",
       "      <th>target_change</th>\n",
       "    </tr>\n",
       "  </thead>\n",
       "  <tbody>\n",
       "    <tr>\n",
       "      <th>ask_size</th>\n",
       "      <td>1.000000</td>\n",
       "      <td>0.022623</td>\n",
       "      <td>-0.013356</td>\n",
       "      <td>0.079209</td>\n",
       "      <td>0.278326</td>\n",
       "      <td>-0.046666</td>\n",
       "      <td>-0.006528</td>\n",
       "      <td>0.014461</td>\n",
       "    </tr>\n",
       "    <tr>\n",
       "      <th>imbalance_size</th>\n",
       "      <td>0.022623</td>\n",
       "      <td>1.000000</td>\n",
       "      <td>-0.010159</td>\n",
       "      <td>0.512367</td>\n",
       "      <td>0.021141</td>\n",
       "      <td>-0.000928</td>\n",
       "      <td>-0.003717</td>\n",
       "      <td>-0.001719</td>\n",
       "    </tr>\n",
       "    <tr>\n",
       "      <th>imbalance_buy_sell_flag</th>\n",
       "      <td>-0.013356</td>\n",
       "      <td>-0.010159</td>\n",
       "      <td>1.000000</td>\n",
       "      <td>-0.006003</td>\n",
       "      <td>0.035236</td>\n",
       "      <td>0.009101</td>\n",
       "      <td>0.182100</td>\n",
       "      <td>0.013568</td>\n",
       "    </tr>\n",
       "    <tr>\n",
       "      <th>matched_size</th>\n",
       "      <td>0.079209</td>\n",
       "      <td>0.512367</td>\n",
       "      <td>-0.006003</td>\n",
       "      <td>1.000000</td>\n",
       "      <td>0.078554</td>\n",
       "      <td>-0.003421</td>\n",
       "      <td>0.007724</td>\n",
       "      <td>0.002510</td>\n",
       "    </tr>\n",
       "    <tr>\n",
       "      <th>bid_size</th>\n",
       "      <td>0.278326</td>\n",
       "      <td>0.021141</td>\n",
       "      <td>0.035236</td>\n",
       "      <td>0.078554</td>\n",
       "      <td>1.000000</td>\n",
       "      <td>0.106981</td>\n",
       "      <td>0.007271</td>\n",
       "      <td>-0.017563</td>\n",
       "    </tr>\n",
       "    <tr>\n",
       "      <th>bid_ask_ratio</th>\n",
       "      <td>-0.046666</td>\n",
       "      <td>-0.000928</td>\n",
       "      <td>0.009101</td>\n",
       "      <td>-0.003421</td>\n",
       "      <td>0.106981</td>\n",
       "      <td>1.000000</td>\n",
       "      <td>0.005937</td>\n",
       "      <td>-0.020757</td>\n",
       "    </tr>\n",
       "    <tr>\n",
       "      <th>reference_price</th>\n",
       "      <td>-0.006528</td>\n",
       "      <td>-0.003717</td>\n",
       "      <td>0.182100</td>\n",
       "      <td>0.007724</td>\n",
       "      <td>0.007271</td>\n",
       "      <td>0.005937</td>\n",
       "      <td>1.000000</td>\n",
       "      <td>-0.009893</td>\n",
       "    </tr>\n",
       "    <tr>\n",
       "      <th>target_change</th>\n",
       "      <td>0.014461</td>\n",
       "      <td>-0.001719</td>\n",
       "      <td>0.013568</td>\n",
       "      <td>0.002510</td>\n",
       "      <td>-0.017563</td>\n",
       "      <td>-0.020757</td>\n",
       "      <td>-0.009893</td>\n",
       "      <td>1.000000</td>\n",
       "    </tr>\n",
       "  </tbody>\n",
       "</table>\n",
       "</div>"
      ],
      "text/plain": [
       "                         ask_size  imbalance_size  imbalance_buy_sell_flag  \\\n",
       "ask_size                 1.000000        0.022623                -0.013356   \n",
       "imbalance_size           0.022623        1.000000                -0.010159   \n",
       "imbalance_buy_sell_flag -0.013356       -0.010159                 1.000000   \n",
       "matched_size             0.079209        0.512367                -0.006003   \n",
       "bid_size                 0.278326        0.021141                 0.035236   \n",
       "bid_ask_ratio           -0.046666       -0.000928                 0.009101   \n",
       "reference_price         -0.006528       -0.003717                 0.182100   \n",
       "target_change            0.014461       -0.001719                 0.013568   \n",
       "\n",
       "                         matched_size  bid_size  bid_ask_ratio  \\\n",
       "ask_size                     0.079209  0.278326      -0.046666   \n",
       "imbalance_size               0.512367  0.021141      -0.000928   \n",
       "imbalance_buy_sell_flag     -0.006003  0.035236       0.009101   \n",
       "matched_size                 1.000000  0.078554      -0.003421   \n",
       "bid_size                     0.078554  1.000000       0.106981   \n",
       "bid_ask_ratio               -0.003421  0.106981       1.000000   \n",
       "reference_price              0.007724  0.007271       0.005937   \n",
       "target_change                0.002510 -0.017563      -0.020757   \n",
       "\n",
       "                         reference_price  target_change  \n",
       "ask_size                       -0.006528       0.014461  \n",
       "imbalance_size                 -0.003717      -0.001719  \n",
       "imbalance_buy_sell_flag         0.182100       0.013568  \n",
       "matched_size                    0.007724       0.002510  \n",
       "bid_size                        0.007271      -0.017563  \n",
       "bid_ask_ratio                   0.005937      -0.020757  \n",
       "reference_price                 1.000000      -0.009893  \n",
       "target_change                  -0.009893       1.000000  "
      ]
     },
     "execution_count": 34,
     "metadata": {},
     "output_type": "execute_result"
    }
   ],
   "source": [
    "num_vals.corr()"
   ]
  },
  {
   "cell_type": "markdown",
   "metadata": {},
   "source": [
    "To begin with we create a simple linear model using the full feature space to act as our baseline"
   ]
  },
  {
   "cell_type": "markdown",
   "metadata": {},
   "source": [
    "## Baseline Model"
   ]
  },
  {
   "cell_type": "markdown",
   "metadata": {},
   "source": [
    "The respone is super tight around 1. Seems like we will need to normalize the data so that we can actually use it for our analysis"
   ]
  },
  {
   "cell_type": "code",
   "execution_count": 6,
   "metadata": {},
   "outputs": [
    {
     "data": {
      "text/html": [
       "<div>\n",
       "<style scoped>\n",
       "    .dataframe tbody tr th:only-of-type {\n",
       "        vertical-align: middle;\n",
       "    }\n",
       "\n",
       "    .dataframe tbody tr th {\n",
       "        vertical-align: top;\n",
       "    }\n",
       "\n",
       "    .dataframe thead th {\n",
       "        text-align: right;\n",
       "    }\n",
       "</style>\n",
       "<table border=\"1\" class=\"dataframe\">\n",
       "  <thead>\n",
       "    <tr style=\"text-align: right;\">\n",
       "      <th></th>\n",
       "      <th>seconds_in_bucket</th>\n",
       "      <th>imbalance_size</th>\n",
       "      <th>imbalance_buy_sell_flag</th>\n",
       "      <th>matched_size</th>\n",
       "      <th>bid_size</th>\n",
       "      <th>ask_size</th>\n",
       "      <th>wap</th>\n",
       "      <th>bid_ask_ratio</th>\n",
       "      <th>target_change</th>\n",
       "    </tr>\n",
       "  </thead>\n",
       "  <tbody>\n",
       "    <tr>\n",
       "      <th>0</th>\n",
       "      <td>0</td>\n",
       "      <td>3180602.69</td>\n",
       "      <td>1</td>\n",
       "      <td>13380276.64</td>\n",
       "      <td>60651.50</td>\n",
       "      <td>8493.03</td>\n",
       "      <td>1.000000</td>\n",
       "      <td>7.141326</td>\n",
       "      <td>-1.0</td>\n",
       "    </tr>\n",
       "    <tr>\n",
       "      <th>191</th>\n",
       "      <td>10</td>\n",
       "      <td>1299772.70</td>\n",
       "      <td>1</td>\n",
       "      <td>15261106.63</td>\n",
       "      <td>13996.50</td>\n",
       "      <td>23519.16</td>\n",
       "      <td>0.999892</td>\n",
       "      <td>0.595111</td>\n",
       "      <td>1.0</td>\n",
       "    </tr>\n",
       "    <tr>\n",
       "      <th>382</th>\n",
       "      <td>20</td>\n",
       "      <td>1299772.70</td>\n",
       "      <td>1</td>\n",
       "      <td>15261106.63</td>\n",
       "      <td>4665.50</td>\n",
       "      <td>12131.60</td>\n",
       "      <td>0.999842</td>\n",
       "      <td>0.384574</td>\n",
       "      <td>1.0</td>\n",
       "    </tr>\n",
       "    <tr>\n",
       "      <th>573</th>\n",
       "      <td>30</td>\n",
       "      <td>1299772.70</td>\n",
       "      <td>1</td>\n",
       "      <td>15261106.63</td>\n",
       "      <td>55998.00</td>\n",
       "      <td>46203.30</td>\n",
       "      <td>1.000085</td>\n",
       "      <td>1.211991</td>\n",
       "      <td>1.0</td>\n",
       "    </tr>\n",
       "    <tr>\n",
       "      <th>764</th>\n",
       "      <td>40</td>\n",
       "      <td>1218204.43</td>\n",
       "      <td>1</td>\n",
       "      <td>15342674.90</td>\n",
       "      <td>14655.95</td>\n",
       "      <td>26610.45</td>\n",
       "      <td>1.000317</td>\n",
       "      <td>0.550759</td>\n",
       "      <td>1.0</td>\n",
       "    </tr>\n",
       "  </tbody>\n",
       "</table>\n",
       "</div>"
      ],
      "text/plain": [
       "     seconds_in_bucket  imbalance_size  imbalance_buy_sell_flag  matched_size  \\\n",
       "0                    0      3180602.69                        1   13380276.64   \n",
       "191                 10      1299772.70                        1   15261106.63   \n",
       "382                 20      1299772.70                        1   15261106.63   \n",
       "573                 30      1299772.70                        1   15261106.63   \n",
       "764                 40      1218204.43                        1   15342674.90   \n",
       "\n",
       "     bid_size  ask_size       wap  bid_ask_ratio  target_change  \n",
       "0    60651.50   8493.03  1.000000       7.141326           -1.0  \n",
       "191  13996.50  23519.16  0.999892       0.595111            1.0  \n",
       "382   4665.50  12131.60  0.999842       0.384574            1.0  \n",
       "573  55998.00  46203.30  1.000085       1.211991            1.0  \n",
       "764  14655.95  26610.45  1.000317       0.550759            1.0  "
      ]
     },
     "execution_count": 6,
     "metadata": {},
     "output_type": "execute_result"
    }
   ],
   "source": [
    "# trying a thing\n",
    "st0 = df[df[\"stock_id\"] == 0]\n",
    "\n",
    "st0 = st0.drop([\"stock_id\",\"time_id\",\"reference_price\",\"far_price\",\"near_price\",\"date_id\"], axis = 1)\n",
    "\n",
    "st0.head()"
   ]
  },
  {
   "cell_type": "code",
   "execution_count": 7,
   "metadata": {},
   "outputs": [],
   "source": [
    "# creating test-train split\n",
    "X = st0.drop([\"target_change\"], axis = 1)\n",
    "\n",
    "# created response variable array\n",
    "y = st0[\"target_change\"]\n",
    "\n",
    "X_tr, X_tst, y_tr, y_tst = train_test_split(X, y, test_size=0.2)"
   ]
  },
  {
   "cell_type": "code",
   "execution_count": 8,
   "metadata": {},
   "outputs": [
    {
     "data": {
      "text/html": [
       "<style>#sk-container-id-1 {color: black;}#sk-container-id-1 pre{padding: 0;}#sk-container-id-1 div.sk-toggleable {background-color: white;}#sk-container-id-1 label.sk-toggleable__label {cursor: pointer;display: block;width: 100%;margin-bottom: 0;padding: 0.3em;box-sizing: border-box;text-align: center;}#sk-container-id-1 label.sk-toggleable__label-arrow:before {content: \"▸\";float: left;margin-right: 0.25em;color: #696969;}#sk-container-id-1 label.sk-toggleable__label-arrow:hover:before {color: black;}#sk-container-id-1 div.sk-estimator:hover label.sk-toggleable__label-arrow:before {color: black;}#sk-container-id-1 div.sk-toggleable__content {max-height: 0;max-width: 0;overflow: hidden;text-align: left;background-color: #f0f8ff;}#sk-container-id-1 div.sk-toggleable__content pre {margin: 0.2em;color: black;border-radius: 0.25em;background-color: #f0f8ff;}#sk-container-id-1 input.sk-toggleable__control:checked~div.sk-toggleable__content {max-height: 200px;max-width: 100%;overflow: auto;}#sk-container-id-1 input.sk-toggleable__control:checked~label.sk-toggleable__label-arrow:before {content: \"▾\";}#sk-container-id-1 div.sk-estimator input.sk-toggleable__control:checked~label.sk-toggleable__label {background-color: #d4ebff;}#sk-container-id-1 div.sk-label input.sk-toggleable__control:checked~label.sk-toggleable__label {background-color: #d4ebff;}#sk-container-id-1 input.sk-hidden--visually {border: 0;clip: rect(1px 1px 1px 1px);clip: rect(1px, 1px, 1px, 1px);height: 1px;margin: -1px;overflow: hidden;padding: 0;position: absolute;width: 1px;}#sk-container-id-1 div.sk-estimator {font-family: monospace;background-color: #f0f8ff;border: 1px dotted black;border-radius: 0.25em;box-sizing: border-box;margin-bottom: 0.5em;}#sk-container-id-1 div.sk-estimator:hover {background-color: #d4ebff;}#sk-container-id-1 div.sk-parallel-item::after {content: \"\";width: 100%;border-bottom: 1px solid gray;flex-grow: 1;}#sk-container-id-1 div.sk-label:hover label.sk-toggleable__label {background-color: #d4ebff;}#sk-container-id-1 div.sk-serial::before {content: \"\";position: absolute;border-left: 1px solid gray;box-sizing: border-box;top: 0;bottom: 0;left: 50%;z-index: 0;}#sk-container-id-1 div.sk-serial {display: flex;flex-direction: column;align-items: center;background-color: white;padding-right: 0.2em;padding-left: 0.2em;position: relative;}#sk-container-id-1 div.sk-item {position: relative;z-index: 1;}#sk-container-id-1 div.sk-parallel {display: flex;align-items: stretch;justify-content: center;background-color: white;position: relative;}#sk-container-id-1 div.sk-item::before, #sk-container-id-1 div.sk-parallel-item::before {content: \"\";position: absolute;border-left: 1px solid gray;box-sizing: border-box;top: 0;bottom: 0;left: 50%;z-index: -1;}#sk-container-id-1 div.sk-parallel-item {display: flex;flex-direction: column;z-index: 1;position: relative;background-color: white;}#sk-container-id-1 div.sk-parallel-item:first-child::after {align-self: flex-end;width: 50%;}#sk-container-id-1 div.sk-parallel-item:last-child::after {align-self: flex-start;width: 50%;}#sk-container-id-1 div.sk-parallel-item:only-child::after {width: 0;}#sk-container-id-1 div.sk-dashed-wrapped {border: 1px dashed gray;margin: 0 0.4em 0.5em 0.4em;box-sizing: border-box;padding-bottom: 0.4em;background-color: white;}#sk-container-id-1 div.sk-label label {font-family: monospace;font-weight: bold;display: inline-block;line-height: 1.2em;}#sk-container-id-1 div.sk-label-container {text-align: center;}#sk-container-id-1 div.sk-container {/* jupyter's `normalize.less` sets `[hidden] { display: none; }` but bootstrap.min.css set `[hidden] { display: none !important; }` so we also need the `!important` here to be able to override the default hidden behavior on the sphinx rendered scikit-learn.org. See: https://github.com/scikit-learn/scikit-learn/issues/21755 */display: inline-block !important;position: relative;}#sk-container-id-1 div.sk-text-repr-fallback {display: none;}</style><div id=\"sk-container-id-1\" class=\"sk-top-container\"><div class=\"sk-text-repr-fallback\"><pre>LogisticRegression()</pre><b>In a Jupyter environment, please rerun this cell to show the HTML representation or trust the notebook. <br />On GitHub, the HTML representation is unable to render, please try loading this page with nbviewer.org.</b></div><div class=\"sk-container\" hidden><div class=\"sk-item\"><div class=\"sk-estimator sk-toggleable\"><input class=\"sk-toggleable__control sk-hidden--visually\" id=\"sk-estimator-id-1\" type=\"checkbox\" checked><label for=\"sk-estimator-id-1\" class=\"sk-toggleable__label sk-toggleable__label-arrow\">LogisticRegression</label><div class=\"sk-toggleable__content\"><pre>LogisticRegression()</pre></div></div></div></div></div>"
      ],
      "text/plain": [
       "LogisticRegression()"
      ]
     },
     "execution_count": 8,
     "metadata": {},
     "output_type": "execute_result"
    }
   ],
   "source": [
    "# creating model with fit\n",
    "lmod = LogisticRegression()\n",
    "lmod.fit(X_tr,y_tr)"
   ]
  },
  {
   "cell_type": "code",
   "execution_count": 9,
   "metadata": {},
   "outputs": [
    {
     "name": "stdout",
     "output_type": "stream",
     "text": [
      "0.5171045171045171\n"
     ]
    }
   ],
   "source": [
    "# generating predictions\n",
    "y_hat = lmod.predict(X_tst)\n",
    "\n",
    "# finding rmse of the baseline model\n",
    "baseline_score = accuracy_score(y_tst, y_hat)\n",
    "print(baseline_score)"
   ]
  },
  {
   "cell_type": "code",
   "execution_count": 10,
   "metadata": {},
   "outputs": [
    {
     "data": {
      "text/plain": [
       "array([[0.3951994 , 0.11283311],\n",
       "       [0.37006237, 0.12190512]])"
      ]
     },
     "execution_count": 10,
     "metadata": {},
     "output_type": "execute_result"
    }
   ],
   "source": [
    "confusion_matrix(y_tst, y_hat, normalize='all')"
   ]
  },
  {
   "cell_type": "code",
   "execution_count": 15,
   "metadata": {},
   "outputs": [],
   "source": [
    "import matplotlib.ticker as ticker\n",
    "%matplotlib inline"
   ]
  },
  {
   "cell_type": "code",
   "execution_count": 45,
   "metadata": {},
   "outputs": [
    {
     "data": {
      "image/png": "[encoded data removed]",
      "text/plain": [
       "<Figure size 1000x700 with 2 Axes>"
      ]
     },
     "metadata": {},
     "output_type": "display_data"
    }
   ],
   "source": [
    "# cm = confusion_matrix(y_tst, y_hat , normalize='all')\n",
    "cm = np.array([[0.31407035, 0.17043551],\n",
    "               [0.18257956, 0.33291457]])\n",
    "df_cm = pd.DataFrame(cm)\n",
    "plt.figure(figsize = (10,7))\n",
    "ax = sns.heatmap(df_cm, annot=True)\n",
    "ax.set_xlabel(\"True Values\",fontsize=17)\n",
    "ax.set_ylabel(\"Predicted Values\",fontsize=17)\n",
    "ax.set_xticklabels([\"Positive\",\"Negative\"], fontsize=15)\n",
    "ax.set_yticklabels([\"Positive\",\"Negative\"],fontsize=15)\n",
    "ax.set_title(\"XGBoost Confusion Matrix\", fontsize=20)\n",
    "plt.tight_layout()"
   ]
  },
  {
   "cell_type": "code",
   "execution_count": 43,
   "metadata": {},
   "outputs": [
    {
     "data": {
      "text/plain": [
       "array([0.40975241, 0.1035721 , 0.37856738, 0.10810811])"
      ]
     },
     "execution_count": 43,
     "metadata": {},
     "output_type": "execute_result"
    }
   ],
   "source": [
    "vals = np.array([2168, 548, 2003, 572])\n",
    "\n",
    "vals/np.sum(vals)"
   ]
  },
  {
   "cell_type": "code",
   "execution_count": 44,
   "metadata": {},
   "outputs": [
    {
     "data": {
      "text/plain": [
       "0.2773109243697479"
      ]
     },
     "execution_count": 44,
     "metadata": {},
     "output_type": "execute_result"
    }
   ],
   "source": [
    "f1_score(y_tst, y_hat)"
   ]
  },
  {
   "cell_type": "code",
   "execution_count": 45,
   "metadata": {},
   "outputs": [
    {
     "name": "stdout",
     "output_type": "stream",
     "text": [
      "['seconds_in_bucket' 'imbalance_size' 'bid_size' 'ask_size']\n"
     ]
    }
   ],
   "source": [
    "# creating feature selection model\n",
    "bes = SequentialFeatureSelector(LogisticRegression(), \n",
    "                                direction=\"forward\")\n",
    "\n",
    "# perfoming model fit\n",
    "bes.fit(X_tr, y_tr)\n",
    "\n",
    "# printing optimal feat\n",
    "pred_bet_feature_set = bes.get_feature_names_out()\n",
    "print(pred_bet_feature_set)"
   ]
  },
  {
   "cell_type": "code",
   "execution_count": 46,
   "metadata": {},
   "outputs": [
    {
     "name": "stdout",
     "output_type": "stream",
     "text": [
      "0.5123795123795124\n"
     ]
    }
   ],
   "source": [
    "X_tr = X_tr[pred_bet_feature_set]\n",
    "X_tst = X_tst[pred_bet_feature_set]\n",
    "\n",
    "lmod = LogisticRegression()\n",
    "\n",
    "lmod.fit(X_tr,y_tr)\n",
    "\n",
    "lmod_preds = lmod.predict(X_tst)\n",
    "\n",
    "# rmse with removed features\n",
    "acc_subset = accuracy_score(y_tst, y_hat)\n",
    "print(acc_subset)"
   ]
  },
  {
   "cell_type": "code",
   "execution_count": null,
   "metadata": {},
   "outputs": [],
   "source": []
  }
 ],
 "metadata": {
  "kernelspec": {
   "display_name": "data_sc",
   "language": "python",
   "name": "python3"
  },
  "language_info": {
   "codemirror_mode": {
    "name": "ipython",
    "version": 3
   },
   "file_extension": ".py",
   "mimetype": "text/x-python",
   "name": "python",
   "nbconvert_exporter": "python",
   "pygments_lexer": "ipython3",
   "version": "3.12.2"
  }
 },
 "nbformat": 4,
 "nbformat_minor": 2
}
