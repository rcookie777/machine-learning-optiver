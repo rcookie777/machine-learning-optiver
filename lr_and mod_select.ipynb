{
 "cells": [
  {
   "cell_type": "code",
   "execution_count": 3,
   "metadata": {},
   "outputs": [],
   "source": [
    "import numpy as np\n",
    "import pandas as pd\n",
    "import seaborn as sns\n",
    "import matplotlib.pyplot as plt\n",
    "from sklearn.linear_model import LinearRegression\n",
    "from sklearn.model_selection import train_test_split\n",
    "from sklearn.metrics import mean_squared_error\n",
    "from sklearn.feature_selection import SequentialFeatureSelector"
   ]
  },
  {
   "cell_type": "markdown",
   "metadata": {},
   "source": [
    "## Data Exploration"
   ]
  },
  {
   "cell_type": "code",
   "execution_count": 62,
   "metadata": {},
   "outputs": [
    {
     "data": {
      "text/html": [
       "<div>\n",
       "<style scoped>\n",
       "    .dataframe tbody tr th:only-of-type {\n",
       "        vertical-align: middle;\n",
       "    }\n",
       "\n",
       "    .dataframe tbody tr th {\n",
       "        vertical-align: top;\n",
       "    }\n",
       "\n",
       "    .dataframe thead th {\n",
       "        text-align: right;\n",
       "    }\n",
       "</style>\n",
       "<table border=\"1\" class=\"dataframe\">\n",
       "  <thead>\n",
       "    <tr style=\"text-align: right;\">\n",
       "      <th></th>\n",
       "      <th>stock_id</th>\n",
       "      <th>date_id</th>\n",
       "      <th>seconds_in_bucket</th>\n",
       "      <th>imbalance_size</th>\n",
       "      <th>imbalance_buy_sell_flag</th>\n",
       "      <th>reference_price</th>\n",
       "      <th>matched_size</th>\n",
       "      <th>far_price</th>\n",
       "      <th>bid_size</th>\n",
       "      <th>ask_size</th>\n",
       "      <th>time_id</th>\n",
       "      <th>row_id</th>\n",
       "    </tr>\n",
       "  </thead>\n",
       "  <tbody>\n",
       "    <tr>\n",
       "      <th>0</th>\n",
       "      <td>0</td>\n",
       "      <td>0</td>\n",
       "      <td>0</td>\n",
       "      <td>3180602.69</td>\n",
       "      <td>1</td>\n",
       "      <td>0.999812</td>\n",
       "      <td>13380276.64</td>\n",
       "      <td>NaN</td>\n",
       "      <td>60651.50</td>\n",
       "      <td>8493.03</td>\n",
       "      <td>0</td>\n",
       "      <td>0_0_0</td>\n",
       "    </tr>\n",
       "    <tr>\n",
       "      <th>1</th>\n",
       "      <td>1</td>\n",
       "      <td>0</td>\n",
       "      <td>0</td>\n",
       "      <td>166603.91</td>\n",
       "      <td>-1</td>\n",
       "      <td>0.999896</td>\n",
       "      <td>1642214.25</td>\n",
       "      <td>NaN</td>\n",
       "      <td>3233.04</td>\n",
       "      <td>20605.09</td>\n",
       "      <td>0</td>\n",
       "      <td>0_0_1</td>\n",
       "    </tr>\n",
       "    <tr>\n",
       "      <th>2</th>\n",
       "      <td>2</td>\n",
       "      <td>0</td>\n",
       "      <td>0</td>\n",
       "      <td>302879.87</td>\n",
       "      <td>-1</td>\n",
       "      <td>0.999561</td>\n",
       "      <td>1819368.03</td>\n",
       "      <td>NaN</td>\n",
       "      <td>37956.00</td>\n",
       "      <td>18995.00</td>\n",
       "      <td>0</td>\n",
       "      <td>0_0_2</td>\n",
       "    </tr>\n",
       "    <tr>\n",
       "      <th>3</th>\n",
       "      <td>3</td>\n",
       "      <td>0</td>\n",
       "      <td>0</td>\n",
       "      <td>11917682.27</td>\n",
       "      <td>-1</td>\n",
       "      <td>1.000171</td>\n",
       "      <td>18389745.62</td>\n",
       "      <td>NaN</td>\n",
       "      <td>2324.90</td>\n",
       "      <td>479032.40</td>\n",
       "      <td>0</td>\n",
       "      <td>0_0_3</td>\n",
       "    </tr>\n",
       "    <tr>\n",
       "      <th>4</th>\n",
       "      <td>4</td>\n",
       "      <td>0</td>\n",
       "      <td>0</td>\n",
       "      <td>447549.96</td>\n",
       "      <td>-1</td>\n",
       "      <td>0.999532</td>\n",
       "      <td>17860614.95</td>\n",
       "      <td>NaN</td>\n",
       "      <td>16485.54</td>\n",
       "      <td>434.10</td>\n",
       "      <td>0</td>\n",
       "      <td>0_0_4</td>\n",
       "    </tr>\n",
       "  </tbody>\n",
       "</table>\n",
       "</div>"
      ],
      "text/plain": [
       "   stock_id  date_id  seconds_in_bucket  imbalance_size  \\\n",
       "0         0        0                  0      3180602.69   \n",
       "1         1        0                  0       166603.91   \n",
       "2         2        0                  0       302879.87   \n",
       "3         3        0                  0     11917682.27   \n",
       "4         4        0                  0       447549.96   \n",
       "\n",
       "   imbalance_buy_sell_flag  reference_price  matched_size  far_price  \\\n",
       "0                        1         0.999812   13380276.64        NaN   \n",
       "1                       -1         0.999896    1642214.25        NaN   \n",
       "2                       -1         0.999561    1819368.03        NaN   \n",
       "3                       -1         1.000171   18389745.62        NaN   \n",
       "4                       -1         0.999532   17860614.95        NaN   \n",
       "\n",
       "   bid_size   ask_size  time_id row_id  \n",
       "0  60651.50    8493.03        0  0_0_0  \n",
       "1   3233.04   20605.09        0  0_0_1  \n",
       "2  37956.00   18995.00        0  0_0_2  \n",
       "3   2324.90  479032.40        0  0_0_3  \n",
       "4  16485.54     434.10        0  0_0_4  "
      ]
     },
     "execution_count": 62,
     "metadata": {},
     "output_type": "execute_result"
    }
   ],
   "source": [
    "# loading in data\n",
    "df = pd.read_csv(\"train.csv\")\n",
    "\n",
    "# dropping necessary columns to avoid data leakage\n",
    "df = df.drop([\"near_price\",\"bid_price\",\"ask_price\",\"target\",\"wap\"], axis = 1)\n",
    "\n",
    "df.head()"
   ]
  },
  {
   "cell_type": "markdown",
   "metadata": {},
   "source": [
    "To better understand the data we are working with, we beign by plotting the correlation of each predictor with one another"
   ]
  },
  {
   "cell_type": "code",
   "execution_count": 5,
   "metadata": {},
   "outputs": [
    {
     "data": {
      "image/png": "[encoded data removed]",
      "text/plain": [
       "<Figure size 640x480 with 2 Axes>"
      ]
     },
     "metadata": {},
     "output_type": "display_data"
    }
   ],
   "source": [
    "# isolating numerical values\n",
    "num_vals = df.drop([\"row_id\"], axis=1)\n",
    "\n",
    "# starting by removing NaN values from dataset\n",
    "# we can try some more complex methods later on\n",
    "num_vals = num_vals.dropna()\n",
    "\n",
    "# creating heatmap\n",
    "corr_plot = sns.heatmap(num_vals.corr())"
   ]
  },
  {
   "cell_type": "code",
   "execution_count": 33,
   "metadata": {},
   "outputs": [
    {
     "data": {
      "text/html": [
       "<div>\n",
       "<style scoped>\n",
       "    .dataframe tbody tr th:only-of-type {\n",
       "        vertical-align: middle;\n",
       "    }\n",
       "\n",
       "    .dataframe tbody tr th {\n",
       "        vertical-align: top;\n",
       "    }\n",
       "\n",
       "    .dataframe thead th {\n",
       "        text-align: right;\n",
       "    }\n",
       "</style>\n",
       "<table border=\"1\" class=\"dataframe\">\n",
       "  <thead>\n",
       "    <tr style=\"text-align: right;\">\n",
       "      <th></th>\n",
       "      <th>stock_id</th>\n",
       "      <th>date_id</th>\n",
       "      <th>seconds_in_bucket</th>\n",
       "      <th>imbalance_size</th>\n",
       "      <th>imbalance_buy_sell_flag</th>\n",
       "      <th>reference_price</th>\n",
       "      <th>matched_size</th>\n",
       "      <th>far_price</th>\n",
       "      <th>bid_size</th>\n",
       "      <th>ask_size</th>\n",
       "      <th>time_id</th>\n",
       "    </tr>\n",
       "  </thead>\n",
       "  <tbody>\n",
       "    <tr>\n",
       "      <th>stock_id</th>\n",
       "      <td>1.000000</td>\n",
       "      <td>0.005824</td>\n",
       "      <td>-0.000090</td>\n",
       "      <td>0.023061</td>\n",
       "      <td>0.004772</td>\n",
       "      <td>0.000348</td>\n",
       "      <td>0.036701</td>\n",
       "      <td>-0.000831</td>\n",
       "      <td>0.041245</td>\n",
       "      <td>0.034483</td>\n",
       "      <td>0.005824</td>\n",
       "    </tr>\n",
       "    <tr>\n",
       "      <th>date_id</th>\n",
       "      <td>0.005824</td>\n",
       "      <td>1.000000</td>\n",
       "      <td>-0.001001</td>\n",
       "      <td>0.045681</td>\n",
       "      <td>-0.010580</td>\n",
       "      <td>-0.007117</td>\n",
       "      <td>0.003408</td>\n",
       "      <td>-0.003004</td>\n",
       "      <td>0.038105</td>\n",
       "      <td>0.030655</td>\n",
       "      <td>1.000000</td>\n",
       "    </tr>\n",
       "    <tr>\n",
       "      <th>seconds_in_bucket</th>\n",
       "      <td>-0.000090</td>\n",
       "      <td>-0.001001</td>\n",
       "      <td>1.000000</td>\n",
       "      <td>-0.058611</td>\n",
       "      <td>0.002110</td>\n",
       "      <td>0.003402</td>\n",
       "      <td>0.003438</td>\n",
       "      <td>-0.000550</td>\n",
       "      <td>0.144290</td>\n",
       "      <td>0.125675</td>\n",
       "      <td>-0.000054</td>\n",
       "    </tr>\n",
       "    <tr>\n",
       "      <th>imbalance_size</th>\n",
       "      <td>0.023061</td>\n",
       "      <td>0.045681</td>\n",
       "      <td>-0.058611</td>\n",
       "      <td>1.000000</td>\n",
       "      <td>-0.020432</td>\n",
       "      <td>-0.002444</td>\n",
       "      <td>0.622069</td>\n",
       "      <td>0.000523</td>\n",
       "      <td>0.047609</td>\n",
       "      <td>0.049366</td>\n",
       "      <td>0.045625</td>\n",
       "    </tr>\n",
       "    <tr>\n",
       "      <th>imbalance_buy_sell_flag</th>\n",
       "      <td>0.004772</td>\n",
       "      <td>-0.010580</td>\n",
       "      <td>0.002110</td>\n",
       "      <td>-0.020432</td>\n",
       "      <td>1.000000</td>\n",
       "      <td>0.200544</td>\n",
       "      <td>-0.007488</td>\n",
       "      <td>0.018010</td>\n",
       "      <td>0.048959</td>\n",
       "      <td>-0.026707</td>\n",
       "      <td>-0.010578</td>\n",
       "    </tr>\n",
       "    <tr>\n",
       "      <th>reference_price</th>\n",
       "      <td>0.000348</td>\n",
       "      <td>-0.007117</td>\n",
       "      <td>0.003402</td>\n",
       "      <td>-0.002444</td>\n",
       "      <td>0.200544</td>\n",
       "      <td>1.000000</td>\n",
       "      <td>0.010638</td>\n",
       "      <td>0.015349</td>\n",
       "      <td>0.008795</td>\n",
       "      <td>-0.005956</td>\n",
       "      <td>-0.007114</td>\n",
       "    </tr>\n",
       "    <tr>\n",
       "      <th>matched_size</th>\n",
       "      <td>0.036701</td>\n",
       "      <td>0.003408</td>\n",
       "      <td>0.003438</td>\n",
       "      <td>0.622069</td>\n",
       "      <td>-0.007488</td>\n",
       "      <td>0.010638</td>\n",
       "      <td>1.000000</td>\n",
       "      <td>-0.000705</td>\n",
       "      <td>0.072581</td>\n",
       "      <td>0.078511</td>\n",
       "      <td>0.003411</td>\n",
       "    </tr>\n",
       "    <tr>\n",
       "      <th>far_price</th>\n",
       "      <td>-0.000831</td>\n",
       "      <td>-0.003004</td>\n",
       "      <td>-0.000550</td>\n",
       "      <td>0.000523</td>\n",
       "      <td>0.018010</td>\n",
       "      <td>0.015349</td>\n",
       "      <td>-0.000705</td>\n",
       "      <td>1.000000</td>\n",
       "      <td>0.002229</td>\n",
       "      <td>-0.000153</td>\n",
       "      <td>-0.003005</td>\n",
       "    </tr>\n",
       "    <tr>\n",
       "      <th>bid_size</th>\n",
       "      <td>0.041245</td>\n",
       "      <td>0.038105</td>\n",
       "      <td>0.144290</td>\n",
       "      <td>0.047609</td>\n",
       "      <td>0.048959</td>\n",
       "      <td>0.008795</td>\n",
       "      <td>0.072581</td>\n",
       "      <td>0.002229</td>\n",
       "      <td>1.000000</td>\n",
       "      <td>0.306011</td>\n",
       "      <td>0.038241</td>\n",
       "    </tr>\n",
       "    <tr>\n",
       "      <th>ask_size</th>\n",
       "      <td>0.034483</td>\n",
       "      <td>0.030655</td>\n",
       "      <td>0.125675</td>\n",
       "      <td>0.049366</td>\n",
       "      <td>-0.026707</td>\n",
       "      <td>-0.005956</td>\n",
       "      <td>0.078511</td>\n",
       "      <td>-0.000153</td>\n",
       "      <td>0.306011</td>\n",
       "      <td>1.000000</td>\n",
       "      <td>0.030774</td>\n",
       "    </tr>\n",
       "    <tr>\n",
       "      <th>time_id</th>\n",
       "      <td>0.005824</td>\n",
       "      <td>1.000000</td>\n",
       "      <td>-0.000054</td>\n",
       "      <td>0.045625</td>\n",
       "      <td>-0.010578</td>\n",
       "      <td>-0.007114</td>\n",
       "      <td>0.003411</td>\n",
       "      <td>-0.003005</td>\n",
       "      <td>0.038241</td>\n",
       "      <td>0.030774</td>\n",
       "      <td>1.000000</td>\n",
       "    </tr>\n",
       "  </tbody>\n",
       "</table>\n",
       "</div>"
      ],
      "text/plain": [
       "                         stock_id   date_id  seconds_in_bucket  \\\n",
       "stock_id                 1.000000  0.005824          -0.000090   \n",
       "date_id                  0.005824  1.000000          -0.001001   \n",
       "seconds_in_bucket       -0.000090 -0.001001           1.000000   \n",
       "imbalance_size           0.023061  0.045681          -0.058611   \n",
       "imbalance_buy_sell_flag  0.004772 -0.010580           0.002110   \n",
       "reference_price          0.000348 -0.007117           0.003402   \n",
       "matched_size             0.036701  0.003408           0.003438   \n",
       "far_price               -0.000831 -0.003004          -0.000550   \n",
       "bid_size                 0.041245  0.038105           0.144290   \n",
       "ask_size                 0.034483  0.030655           0.125675   \n",
       "time_id                  0.005824  1.000000          -0.000054   \n",
       "\n",
       "                         imbalance_size  imbalance_buy_sell_flag  \\\n",
       "stock_id                       0.023061                 0.004772   \n",
       "date_id                        0.045681                -0.010580   \n",
       "seconds_in_bucket             -0.058611                 0.002110   \n",
       "imbalance_size                 1.000000                -0.020432   \n",
       "imbalance_buy_sell_flag       -0.020432                 1.000000   \n",
       "reference_price               -0.002444                 0.200544   \n",
       "matched_size                   0.622069                -0.007488   \n",
       "far_price                      0.000523                 0.018010   \n",
       "bid_size                       0.047609                 0.048959   \n",
       "ask_size                       0.049366                -0.026707   \n",
       "time_id                        0.045625                -0.010578   \n",
       "\n",
       "                         reference_price  matched_size  far_price  bid_size  \\\n",
       "stock_id                        0.000348      0.036701  -0.000831  0.041245   \n",
       "date_id                        -0.007117      0.003408  -0.003004  0.038105   \n",
       "seconds_in_bucket               0.003402      0.003438  -0.000550  0.144290   \n",
       "imbalance_size                 -0.002444      0.622069   0.000523  0.047609   \n",
       "imbalance_buy_sell_flag         0.200544     -0.007488   0.018010  0.048959   \n",
       "reference_price                 1.000000      0.010638   0.015349  0.008795   \n",
       "matched_size                    0.010638      1.000000  -0.000705  0.072581   \n",
       "far_price                       0.015349     -0.000705   1.000000  0.002229   \n",
       "bid_size                        0.008795      0.072581   0.002229  1.000000   \n",
       "ask_size                       -0.005956      0.078511  -0.000153  0.306011   \n",
       "time_id                        -0.007114      0.003411  -0.003005  0.038241   \n",
       "\n",
       "                         ask_size   time_id  \n",
       "stock_id                 0.034483  0.005824  \n",
       "date_id                  0.030655  1.000000  \n",
       "seconds_in_bucket        0.125675 -0.000054  \n",
       "imbalance_size           0.049366  0.045625  \n",
       "imbalance_buy_sell_flag -0.026707 -0.010578  \n",
       "reference_price         -0.005956 -0.007114  \n",
       "matched_size             0.078511  0.003411  \n",
       "far_price               -0.000153 -0.003005  \n",
       "bid_size                 0.306011  0.038241  \n",
       "ask_size                 1.000000  0.030774  \n",
       "time_id                  0.030774  1.000000  "
      ]
     },
     "execution_count": 33,
     "metadata": {},
     "output_type": "execute_result"
    }
   ],
   "source": [
    "num_vals.corr()"
   ]
  },
  {
   "cell_type": "markdown",
   "metadata": {},
   "source": [
    "In our plot, we noticed some high correlations betweeen:\n",
    "- near price & reference price: 0.47\n",
    "- imbalance_buy_sell_flag & reference price: 0.51\n",
    "- imbalance size & matched size: 0.51\n",
    "\n",
    "Looking at the correlation heatmap, it is very obvious that we need to do some feature selection on this data when constructing our models. Also, as expected, Target had no correlations with ANY of the features (otherwise there would be no Kaggle competition to begin with).\n",
    "\n",
    "To begin with we create a simple linear model using the full feature space to act as our baseline"
   ]
  },
  {
   "cell_type": "markdown",
   "metadata": {},
   "source": [
    "## Baseline Model"
   ]
  },
  {
   "cell_type": "markdown",
   "metadata": {},
   "source": [
    "The respone is super tight around 1. Seems like we will need to normalize the data so that we can actually use it for our analysis"
   ]
  },
  {
   "cell_type": "code",
   "execution_count": 69,
   "metadata": {},
   "outputs": [
    {
     "data": {
      "text/plain": [
       "Text(0.5, 0, '$log_{10}(1+imbalance\\\\_size)$')"
      ]
     },
     "execution_count": 69,
     "metadata": {},
     "output_type": "execute_result"
    },
    {
     "data": {
      "image/png": "[encoded data removed]",
      "text/plain": [
       "<Figure size 640x480 with 1 Axes>"
      ]
     },
     "metadata": {},
     "output_type": "display_data"
    }
   ],
   "source": [
    "plt.hist(np.log10(1+df[\"imbalance_size\"]),bins=100)\n",
    "plt.title(\"Distribution of imbalance_size data\")\n",
    "plt.xlabel(r\"$log_{10}(1+imbalance\\_size)$\")"
   ]
  },
  {
   "cell_type": "code",
   "execution_count": 76,
   "metadata": {},
   "outputs": [],
   "source": [
    "# creating test-train split\n",
    "X = num_vals.drop([\"imbalance_size\",\"imbalance_buy_sell_flag\"], axis = 1)\n",
    "\n",
    "# created response variable array\n",
    "y = num_vals[\"imbalance_size\"]\n",
    "\n",
    "X_tr, X_tst, y_tr, y_tst = train_test_split(X, y, test_size=0.2)"
   ]
  },
  {
   "cell_type": "code",
   "execution_count": 77,
   "metadata": {},
   "outputs": [
    {
     "data": {
      "text/html": [
       "<style>#sk-container-id-7 {color: black;}#sk-container-id-7 pre{padding: 0;}#sk-container-id-7 div.sk-toggleable {background-color: white;}#sk-container-id-7 label.sk-toggleable__label {cursor: pointer;display: block;width: 100%;margin-bottom: 0;padding: 0.3em;box-sizing: border-box;text-align: center;}#sk-container-id-7 label.sk-toggleable__label-arrow:before {content: \"▸\";float: left;margin-right: 0.25em;color: #696969;}#sk-container-id-7 label.sk-toggleable__label-arrow:hover:before {color: black;}#sk-container-id-7 div.sk-estimator:hover label.sk-toggleable__label-arrow:before {color: black;}#sk-container-id-7 div.sk-toggleable__content {max-height: 0;max-width: 0;overflow: hidden;text-align: left;background-color: #f0f8ff;}#sk-container-id-7 div.sk-toggleable__content pre {margin: 0.2em;color: black;border-radius: 0.25em;background-color: #f0f8ff;}#sk-container-id-7 input.sk-toggleable__control:checked~div.sk-toggleable__content {max-height: 200px;max-width: 100%;overflow: auto;}#sk-container-id-7 input.sk-toggleable__control:checked~label.sk-toggleable__label-arrow:before {content: \"▾\";}#sk-container-id-7 div.sk-estimator input.sk-toggleable__control:checked~label.sk-toggleable__label {background-color: #d4ebff;}#sk-container-id-7 div.sk-label input.sk-toggleable__control:checked~label.sk-toggleable__label {background-color: #d4ebff;}#sk-container-id-7 input.sk-hidden--visually {border: 0;clip: rect(1px 1px 1px 1px);clip: rect(1px, 1px, 1px, 1px);height: 1px;margin: -1px;overflow: hidden;padding: 0;position: absolute;width: 1px;}#sk-container-id-7 div.sk-estimator {font-family: monospace;background-color: #f0f8ff;border: 1px dotted black;border-radius: 0.25em;box-sizing: border-box;margin-bottom: 0.5em;}#sk-container-id-7 div.sk-estimator:hover {background-color: #d4ebff;}#sk-container-id-7 div.sk-parallel-item::after {content: \"\";width: 100%;border-bottom: 1px solid gray;flex-grow: 1;}#sk-container-id-7 div.sk-label:hover label.sk-toggleable__label {background-color: #d4ebff;}#sk-container-id-7 div.sk-serial::before {content: \"\";position: absolute;border-left: 1px solid gray;box-sizing: border-box;top: 0;bottom: 0;left: 50%;z-index: 0;}#sk-container-id-7 div.sk-serial {display: flex;flex-direction: column;align-items: center;background-color: white;padding-right: 0.2em;padding-left: 0.2em;position: relative;}#sk-container-id-7 div.sk-item {position: relative;z-index: 1;}#sk-container-id-7 div.sk-parallel {display: flex;align-items: stretch;justify-content: center;background-color: white;position: relative;}#sk-container-id-7 div.sk-item::before, #sk-container-id-7 div.sk-parallel-item::before {content: \"\";position: absolute;border-left: 1px solid gray;box-sizing: border-box;top: 0;bottom: 0;left: 50%;z-index: -1;}#sk-container-id-7 div.sk-parallel-item {display: flex;flex-direction: column;z-index: 1;position: relative;background-color: white;}#sk-container-id-7 div.sk-parallel-item:first-child::after {align-self: flex-end;width: 50%;}#sk-container-id-7 div.sk-parallel-item:last-child::after {align-self: flex-start;width: 50%;}#sk-container-id-7 div.sk-parallel-item:only-child::after {width: 0;}#sk-container-id-7 div.sk-dashed-wrapped {border: 1px dashed gray;margin: 0 0.4em 0.5em 0.4em;box-sizing: border-box;padding-bottom: 0.4em;background-color: white;}#sk-container-id-7 div.sk-label label {font-family: monospace;font-weight: bold;display: inline-block;line-height: 1.2em;}#sk-container-id-7 div.sk-label-container {text-align: center;}#sk-container-id-7 div.sk-container {/* jupyter's `normalize.less` sets `[hidden] { display: none; }` but bootstrap.min.css set `[hidden] { display: none !important; }` so we also need the `!important` here to be able to override the default hidden behavior on the sphinx rendered scikit-learn.org. See: https://github.com/scikit-learn/scikit-learn/issues/21755 */display: inline-block !important;position: relative;}#sk-container-id-7 div.sk-text-repr-fallback {display: none;}</style><div id=\"sk-container-id-7\" class=\"sk-top-container\"><div class=\"sk-text-repr-fallback\"><pre>LinearRegression()</pre><b>In a Jupyter environment, please rerun this cell to show the HTML representation or trust the notebook. <br />On GitHub, the HTML representation is unable to render, please try loading this page with nbviewer.org.</b></div><div class=\"sk-container\" hidden><div class=\"sk-item\"><div class=\"sk-estimator sk-toggleable\"><input class=\"sk-toggleable__control sk-hidden--visually\" id=\"sk-estimator-id-7\" type=\"checkbox\" checked><label for=\"sk-estimator-id-7\" class=\"sk-toggleable__label sk-toggleable__label-arrow\">LinearRegression</label><div class=\"sk-toggleable__content\"><pre>LinearRegression()</pre></div></div></div></div></div>"
      ],
      "text/plain": [
       "LinearRegression()"
      ]
     },
     "execution_count": 77,
     "metadata": {},
     "output_type": "execute_result"
    }
   ],
   "source": [
    "# creating model with fit\n",
    "lmod = LinearRegression()\n",
    "lmod.fit(X_tr,y_tr)"
   ]
  },
  {
   "cell_type": "code",
   "execution_count": 78,
   "metadata": {},
   "outputs": [
    {
     "name": "stdout",
     "output_type": "stream",
     "text": [
      "7177983.758417541\n"
     ]
    }
   ],
   "source": [
    "# generating predictions\n",
    "y_hat = lmod.predict(X_tst)\n",
    "\n",
    "# finding rmse of the baseline model\n",
    "rmse_baseline = np.sqrt(mean_squared_error(y_tst, y_hat))\n",
    "print(rmse_baseline)"
   ]
  },
  {
   "cell_type": "code",
   "execution_count": 79,
   "metadata": {},
   "outputs": [
    {
     "name": "stdout",
     "output_type": "stream",
     "text": [
      "['seconds_in_bucket' 'matched_size' 'bid_size' 'time_id']\n"
     ]
    }
   ],
   "source": [
    "# creating feature selection model\n",
    "bes = SequentialFeatureSelector(LinearRegression(), \n",
    "                                direction=\"forward\")\n",
    "\n",
    "# perfoming model fit\n",
    "bes.fit(X_tr, y_tr)\n",
    "\n",
    "# printing optimal feat\n",
    "pred_bet_feature_set = bes.get_feature_names_out()\n",
    "print(pred_bet_feature_set)"
   ]
  },
  {
   "cell_type": "code",
   "execution_count": 80,
   "metadata": {},
   "outputs": [
    {
     "name": "stdout",
     "output_type": "stream",
     "text": [
      "7178415.539174703\n"
     ]
    }
   ],
   "source": [
    "X_tr_sub = X_tr[pred_bet_feature_set]\n",
    "X_tst_sub = X_tst[pred_bet_feature_set]\n",
    "\n",
    "sub_lmod = LinearRegression()\n",
    "\n",
    "sub_lmod.fit(X_tr_sub,y_tr)\n",
    "\n",
    "sub_lmod_preds = sub_lmod.predict(X_tst_sub)\n",
    "\n",
    "# rmse with removed features\n",
    "rmse_subset = np.sqrt(mean_squared_error(y_tst, sub_lmod_preds))\n",
    "print(rmse_subset)"
   ]
  },
  {
   "cell_type": "markdown",
   "metadata": {},
   "source": [
    "Looking at the RMSE we see above, it appears as though removing these features does not cause any significant increase in the RMSE. Although based on earlier correlation plots, it seems as though more features can be removed from the data."
   ]
  },
  {
   "cell_type": "code",
   "execution_count": null,
   "metadata": {},
   "outputs": [],
   "source": []
  }
 ],
 "metadata": {
  "kernelspec": {
   "display_name": "data_sc",
   "language": "python",
   "name": "python3"
  },
  "language_info": {
   "codemirror_mode": {
    "name": "ipython",
    "version": 3
   },
   "file_extension": ".py",
   "mimetype": "text/x-python",
   "name": "python",
   "nbconvert_exporter": "python",
   "pygments_lexer": "ipython3",
   "version": "3.11.7"
  }
 },
 "nbformat": 4,
 "nbformat_minor": 2
}
